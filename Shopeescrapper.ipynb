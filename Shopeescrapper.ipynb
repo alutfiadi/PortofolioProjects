{
 "cells": [
  {
   "cell_type": "code",
   "execution_count": 1,
   "id": "2a3d319e-8115-4af0-8167-d7a7bd1ec398",
   "metadata": {},
   "outputs": [],
   "source": [
    "from selenium import webdriver\n",
    "from selenium.webdriver.chrome.service import Service\n",
    "from bs4 import BeautifulSoup\n",
    "import pandas as pd\n",
    "import time"
   ]
  },
  {
   "cell_type": "code",
   "execution_count": 75,
   "id": "d61ca8c4-6c6a-4b3a-a7b2-bace16fdc544",
   "metadata": {},
   "outputs": [],
   "source": [
    "option = webdriver.ChromeOptions()\n",
    "option.add_argument('--headless')\n",
    "svc = Service('chromedriver.exe')\n",
    "\n",
    "#search query\n",
    "q = 'sepeda lipat'\n",
    "q = q.replace(\" \", \"%20\")\n",
    "excel_name= q.replace(\"%20\",\"\")\n",
    "page = 0\n",
    "maxpage = 5\n",
    "url_list = []\n",
    "#define list of url\n",
    "for i in range(maxpage+1):\n",
    "    url = 'https://shopee.co.id/search?keyword='+ q +'&page=' + str(page)\n",
    "    page= page+1\n",
    "    url_list.append(url)\n",
    "\n",
    "#get data from urls    \n",
    "results = []\n",
    "for url in url_list:\n",
    "    driver = webdriver.Chrome(service=svc, options=option)\n",
    "    driver.set_window_size(1300,800)\n",
    "    driver.get(url)\n",
    "\n",
    "    #loop for scrolling\n",
    "    ranges = 500\n",
    "    for i in range (0,7):\n",
    "        end = ranges * i\n",
    "        script = \"window.scrollTo(0,\"+str(end)+\")\"\n",
    "        driver.execute_script(script)\n",
    "        time.sleep(1)\n",
    "\n",
    "    time.sleep(3)\n",
    "    content = driver.page_source\n",
    "    driver.save_screenshot(excel_name+str(page)+'.png')\n",
    "    page = page+1\n",
    "    driver.quit()\n",
    "    results.append(BeautifulSoup(content,'html.parser'))\n",
    "\n",
    "# print(data)"
   ]
  },
  {
   "cell_type": "code",
   "execution_count": 74,
   "id": "4fab2098-776c-45ea-b734-d488971b058e",
   "metadata": {},
   "outputs": [],
   "source": [
    "i=1\n",
    "base_url ='https://shopee.co.id'\n",
    "list_nama, list_pictures, list_price, list_link, list_sold, list_city = [],[],[],[],[],[]\n",
    "for data in results:\n",
    "    for item in data.find_all('div', class_=\"col-xs-2-4 shopee-search-item-result__item\"):\n",
    "        # print('Proses data ke-'+str(i))\n",
    "        name = item.find('div', class_=\"ie3A+n bM+7UW Cve6sh\").get_text()\n",
    "        pictures = item.find('img')['src']\n",
    "        price = item.find('span', class_=\"ZEgDH9\").get_text()\n",
    "        link = base_url + item.find('a')['href']\n",
    "        sold = item.find('div', class_=\"r6HknA uEPGHT\")\n",
    "        if sold != None:\n",
    "            sold = sold.get_text().split()[0]\n",
    "        city = item.find('div', class_=\"zGGwiV\").get_text()\n",
    "\n",
    "        list_nama.append(name)\n",
    "        list_pictures.append(pictures)\n",
    "        list_price.append(price)\n",
    "        list_link.append(link)\n",
    "        list_sold.append(sold)\n",
    "        list_city.append(city)\n",
    "\n",
    "        # print(item)\n",
    "        i+=1\n",
    "        # print('-------')\n",
    "    \n",
    "    # save to excel\n",
    "    df = pd.DataFrame({'Nama':list_nama,'Price':list_price,'Sold':list_sold,'City':city, 'Pictures':list_pictures, 'Link':list_link})\n",
    "    writer = pd.ExcelWriter(excel_name+\".xlsx\")\n",
    "    df.to_excel(writer,'Sheet1', index=False)\n",
    "    writer.save()"
   ]
  },
  {
   "cell_type": "code",
   "execution_count": null,
   "id": "a5fbffbf-713c-4ae5-80bb-a23ca0a30eee",
   "metadata": {},
   "outputs": [],
   "source": []
  }
 ],
 "metadata": {
  "kernelspec": {
   "display_name": "Python 3 (ipykernel)",
   "language": "python",
   "name": "python3"
  },
  "language_info": {
   "codemirror_mode": {
    "name": "ipython",
    "version": 3
   },
   "file_extension": ".py",
   "mimetype": "text/x-python",
   "name": "python",
   "nbconvert_exporter": "python",
   "pygments_lexer": "ipython3",
   "version": "3.9.12"
  }
 },
 "nbformat": 4,
 "nbformat_minor": 5
}
